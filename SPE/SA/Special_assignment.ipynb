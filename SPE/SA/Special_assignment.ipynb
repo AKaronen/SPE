{
 "cells": [
  {
   "cell_type": "markdown",
   "metadata": {},
   "source": [
    "# Statistical Parameter Estimation 2024\n",
    "\n",
    "## Special assignment: GPU-enhanced GP Regression with PyTorch\n",
    "\n",
    "Author: Alex Karonen\n"
   ]
  },
  {
   "cell_type": "markdown",
   "metadata": {},
   "source": [
    "Imports and notebook settings\n"
   ]
  },
  {
   "cell_type": "code",
   "execution_count": 2,
   "metadata": {},
   "outputs": [],
   "source": [
    "import numpy as np\n",
    "import torch\n",
    "import gpytorch\n",
    "from matplotlib import pyplot as plt\n",
    "\n",
    "%matplotlib inline"
   ]
  },
  {
   "cell_type": "markdown",
   "metadata": {},
   "source": [
    "Data creation\n"
   ]
  },
  {
   "cell_type": "code",
   "execution_count": 3,
   "metadata": {},
   "outputs": [],
   "source": [
    "N_obs = int(\n",
    "    1e4\n",
    ")  # About the maximum reasonable size of observations such that the model fits into my own GPU (RTX 4070)\n",
    "train_x = torch.linspace(-1, 1, N_obs)\n",
    "# Ground truth:\n",
    "sigma = 0.01\n",
    "theta = [0.1, 0.3, -0.4]\n",
    "gt = (\n",
    "    lambda x: theta[0] * torch.sin(100 * x)\n",
    "    + theta[1] * torch.cos(20 * x)\n",
    "    + theta[2] * x\n",
    ") # An arbitrary ground-truth model with some parameters\n",
    "train_y = gt(train_x) + torch.randn(train_x.size()) * sigma # Noisy training data"
   ]
  },
  {
   "cell_type": "markdown",
   "metadata": {},
   "source": [
    "Model"
   ]
  },
  {
   "cell_type": "code",
   "execution_count": 4,
   "metadata": {},
   "outputs": [],
   "source": [
    "# A basic GP model with a constant mean and a squared exponential kernel\n",
    "class ExactGPModel(gpytorch.models.ExactGP):\n",
    "\n",
    "    def __init__(self, train_x, train_y, likelihood):\n",
    "\n",
    "        super(ExactGPModel, self).__init__(train_x, train_y, likelihood)\n",
    "\n",
    "        self.mean_module = gpytorch.means.ConstantMean()\n",
    "\n",
    "        self.covar_module = gpytorch.kernels.ScaleKernel(gpytorch.kernels.RBFKernel())\n",
    "\n",
    "\n",
    "    def forward(self, x):\n",
    "\n",
    "        mean_x = self.mean_module(x)\n",
    "\n",
    "        covar_x = self.covar_module(x)\n",
    "\n",
    "        return gpytorch.distributions.MultivariateNormal(mean_x, covar_x)\n",
    "\n",
    "\n",
    "\n",
    "# initialize likelihood (no prior) and model \n",
    "likelihood = gpytorch.likelihoods.GaussianLikelihood()\n",
    "model = ExactGPModel(train_x, train_y, likelihood)"
   ]
  },
  {
   "cell_type": "markdown",
   "metadata": {},
   "source": [
    "Send everything to the GPU\n"
   ]
  },
  {
   "cell_type": "code",
   "execution_count": 5,
   "metadata": {},
   "outputs": [],
   "source": [
    "train_x = train_x.cuda()\n",
    "train_y = train_y.cuda()\n",
    "model = model.cuda()\n",
    "likelihood = likelihood.cuda()"
   ]
  },
  {
   "cell_type": "markdown",
   "metadata": {},
   "source": [
    "Model training\n"
   ]
  },
  {
   "cell_type": "code",
   "execution_count": 6,
   "metadata": {},
   "outputs": [
    {
     "name": "stderr",
     "output_type": "stream",
     "text": [
      "C:\\Users\\alexk\\AppData\\Local\\Packages\\PythonSoftwareFoundation.Python.3.9_qbz5n2kfra8p0\\LocalCache\\local-packages\\Python39\\site-packages\\linear_operator\\utils\\cholesky.py:40: NumericalWarning: A not p.d., added jitter of 1.0e-06 to the diagonal\n",
      "  warnings.warn(\n"
     ]
    },
    {
     "name": "stdout",
     "output_type": "stream",
     "text": [
      "Iter 1/50 - Loss: 0.772\n",
      "Iter 2/50 - Loss: 0.738\n",
      "Iter 3/50 - Loss: 0.704\n",
      "Iter 4/50 - Loss: 0.669\n",
      "Iter 5/50 - Loss: 0.633\n",
      "Iter 6/50 - Loss: 0.597\n",
      "Iter 7/50 - Loss: 0.561\n",
      "Iter 8/50 - Loss: 0.524\n",
      "Iter 9/50 - Loss: 0.487\n",
      "Iter 10/50 - Loss: 0.450\n",
      "Iter 11/50 - Loss: 0.412\n",
      "Iter 12/50 - Loss: 0.374\n",
      "Iter 13/50 - Loss: 0.335\n",
      "Iter 14/50 - Loss: 0.293\n",
      "Iter 15/50 - Loss: 0.243\n",
      "Iter 16/50 - Loss: 0.181\n",
      "Iter 17/50 - Loss: 0.113\n",
      "Iter 18/50 - Loss: 0.052\n",
      "Iter 19/50 - Loss: -0.000\n",
      "Iter 20/50 - Loss: -0.049\n",
      "Iter 21/50 - Loss: -0.097\n",
      "Iter 22/50 - Loss: -0.144\n",
      "Iter 23/50 - Loss: -0.191\n",
      "Iter 24/50 - Loss: -0.239\n",
      "Iter 25/50 - Loss: -0.287\n",
      "Iter 26/50 - Loss: -0.334\n",
      "Iter 27/50 - Loss: -0.381\n",
      "Iter 28/50 - Loss: -0.428\n",
      "Iter 29/50 - Loss: -0.476\n",
      "Iter 30/50 - Loss: -0.522\n",
      "Iter 31/50 - Loss: -0.568\n",
      "Iter 32/50 - Loss: -0.613\n",
      "Iter 33/50 - Loss: -0.658\n",
      "Iter 34/50 - Loss: -0.704\n",
      "Iter 35/50 - Loss: -0.746\n",
      "Iter 36/50 - Loss: -0.789\n",
      "Iter 37/50 - Loss: -0.833\n",
      "Iter 38/50 - Loss: -0.869\n",
      "Iter 39/50 - Loss: -0.908\n",
      "Iter 40/50 - Loss: -0.948\n",
      "Iter 41/50 - Loss: -0.987\n",
      "Iter 42/50 - Loss: -1.026\n",
      "Iter 43/50 - Loss: -1.074\n",
      "Iter 44/50 - Loss: -1.109\n",
      "Iter 45/50 - Loss: -1.157\n",
      "Iter 46/50 - Loss: -1.216\n",
      "Iter 47/50 - Loss: -1.255\n",
      "Iter 48/50 - Loss: -1.372\n",
      "Iter 49/50 - Loss: -1.434\n",
      "Iter 50/50 - Loss: -1.470\n"
     ]
    }
   ],
   "source": [
    "model.train()\n",
    "likelihood.train()\n",
    "# Use the adam optimizer\n",
    "optimizer = torch.optim.Adam(model.parameters(), lr=0.1)\n",
    "\n",
    "# \"Loss\" for GPs\n",
    "mll = gpytorch.mlls.ExactMarginalLogLikelihood(likelihood, model)\n",
    "\n",
    "training_iter = 50\n",
    "\n",
    "def training(model, optimizer, loss_fun, train_x, train_y, max_iters, verbose=True):\n",
    "    for i in range(max_iters):\n",
    "        # Zero gradients from previous iteration\n",
    "        optimizer.zero_grad()\n",
    "        # Output from model\n",
    "        output = model(train_x)\n",
    "        # Calc loss and backprop gradients\n",
    "        loss = -loss_fun(output, train_y)\n",
    "        loss.backward()\n",
    "        if verbose:\n",
    "            print(\n",
    "                \"Iter %d/%d - Loss: %.3f\"\n",
    "                % (\n",
    "                    i + 1,\n",
    "                    max_iters,\n",
    "                    loss.item(),\n",
    "                )\n",
    "            )\n",
    "        optimizer.step()\n",
    "\n",
    "\n",
    "training(model, optimizer, mll, train_x, train_y, training_iter)"
   ]
  },
  {
   "cell_type": "markdown",
   "metadata": {},
   "source": [
    "Testing"
   ]
  },
  {
   "cell_type": "code",
   "execution_count": 7,
   "metadata": {},
   "outputs": [],
   "source": [
    "test_x = torch.linspace(-1, 1.5, 1000).cuda()\n",
    "\n",
    "\n",
    "def predict(model, likelihood, input):\n",
    "    # Evaluation mode\n",
    "    model.eval()\n",
    "    likelihood.eval()\n",
    "    # Make predictions by feeding model through likelihood\n",
    "    with torch.no_grad(), gpytorch.settings.fast_pred_var():\n",
    "        observed_pred = likelihood(model(input))\n",
    "        mean = observed_pred.mean\n",
    "        lower, upper = observed_pred.confidence_region()\n",
    "        return mean, lower, upper\n",
    "\n",
    "\n",
    "mean, lower, upper = predict(model, likelihood, test_x)"
   ]
  },
  {
   "cell_type": "markdown",
   "metadata": {},
   "source": [
    "Get everything back to CPU for plotting\n"
   ]
  },
  {
   "cell_type": "code",
   "execution_count": 8,
   "metadata": {},
   "outputs": [],
   "source": [
    "mean = mean.cpu()\n",
    "lower = lower.cpu()\n",
    "upper = upper.cpu()\n",
    "\n",
    "train_x = train_x.cpu()\n",
    "train_y = train_y.cpu()\n",
    "test_x = test_x.cpu()"
   ]
  },
  {
   "cell_type": "markdown",
   "metadata": {},
   "source": [
    "Visualize the results\n"
   ]
  },
  {
   "cell_type": "code",
   "execution_count": 15,
   "metadata": {},
   "outputs": [
    {
     "data": {
      "image/png": "[encoded data removed]",
      "text/plain": [
       "<Figure size 576x360 with 1 Axes>"
      ]
     },
     "metadata": {
      "needs_background": "light"
     },
     "output_type": "display_data"
    }
   ],
   "source": [
    "with torch.no_grad():\n",
    "    # Initialize plot\n",
    "    f, ax = plt.subplots(1, 1, figsize=(8, 5))\n",
    "    ax.set_facecolor(\"lightgray\")\n",
    "    ax.grid(c=\"white\")\n",
    "    # Plot observations\n",
    "    ax.plot(\n",
    "        train_x.numpy()[::100],\n",
    "        train_y.numpy()[::100],\n",
    "        \"k.\",\n",
    "        ms=12,\n",
    "        label=\"Observations (every 100th sample)\",\n",
    "    )\n",
    "    # Plot ground truth\n",
    "    ax.plot(test_x, gt(test_x), \"r\", label=\"Ground-truth\")\n",
    "    # Plot predictive posterior means\n",
    "    ax.plot(test_x.numpy(), mean.numpy(), \"b\", label=\"Predictive posterior mean\")\n",
    "    # Confidence interval\n",
    "    ax.fill_between(\n",
    "        test_x.numpy(),\n",
    "        lower.numpy(),\n",
    "        upper.numpy(),\n",
    "        color=\"cyan\",\n",
    "        alpha=0.2,\n",
    "        label=\"Confidence interval\",\n",
    "    )\n",
    "    ax.legend(loc=\"upper right\", fontsize=12)\n",
    "    # ax.set_title(f\"Predictive posterior on {N_obs} observations\", fontsize=20)\n",
    "    ax.set_ylim([-1.5, 1.5])\n",
    "    ax.set_xlim([-1, 1.5])\n",
    "    ax.set_xlabel(\"x\", fontsize=12)\n",
    "    ax.set_ylabel(r\"y(x)\", fontsize=12)"
   ]
  },
  {
   "cell_type": "markdown",
   "metadata": {},
   "source": [
    "Testing training times between different amounts of observations\n"
   ]
  },
  {
   "cell_type": "code",
   "execution_count": 10,
   "metadata": {},
   "outputs": [
    {
     "name": "stdout",
     "output_type": "stream",
     "text": [
      "Testing on device: cpu\n",
      "Test 1/10\n",
      "Test 2/10\n",
      "Test 3/10\n",
      "Test 4/10\n",
      "Test 5/10\n",
      "Test 6/10\n",
      "Test 7/10\n",
      "Test 8/10\n"
     ]
    },
    {
     "name": "stderr",
     "output_type": "stream",
     "text": [
      "C:\\Users\\alexk\\AppData\\Local\\Packages\\PythonSoftwareFoundation.Python.3.9_qbz5n2kfra8p0\\LocalCache\\local-packages\\Python39\\site-packages\\linear_operator\\utils\\cholesky.py:40: NumericalWarning: A not p.d., added jitter of 1.0e-06 to the diagonal\n",
      "  warnings.warn(\n"
     ]
    },
    {
     "name": "stdout",
     "output_type": "stream",
     "text": [
      "Test 9/10\n",
      "Test 10/10\n",
      "Testing on device: cuda\n",
      "Test 1/10\n",
      "Test 2/10\n",
      "Test 3/10\n",
      "Test 4/10\n",
      "Test 5/10\n",
      "Test 6/10\n",
      "Test 7/10\n",
      "Test 8/10\n",
      "Test 9/10\n",
      "Test 10/10\n"
     ]
    }
   ],
   "source": [
    "import time\n",
    "\n",
    "\n",
    "N_test = torch.arange(1000, 11000, 1000)\n",
    "\n",
    "\n",
    "def test_training_times(device):\n",
    "\n",
    "    Training_times = []\n",
    "    print(f\"Testing on device: {device}\")\n",
    "\n",
    "    for i,N in enumerate(N_test):\n",
    "        print(f\"Test {i+1}/{len(N_test)}\")\n",
    "        # Initialize necessary training data\n",
    "\n",
    "        train_x = torch.linspace(-1, 1, int(N)).to(device=device)\n",
    "\n",
    "        train_y = (gt(train_x) + torch.randn(train_x.size()).to(device=device) * sigma).to(device=device)\n",
    "        if device.type == \"cuda\":\n",
    "            likelihood = gpytorch.likelihoods.GaussianLikelihood().cuda()\n",
    "            model = ExactGPModel(train_x, train_y, likelihood).cuda()\n",
    "\n",
    "            loss = gpytorch.mlls.ExactMarginalLogLikelihood(likelihood, model)\n",
    "\n",
    "            optimizer = torch.optim.Adam(model.parameters(), lr=0.1)\n",
    "\n",
    "            model.train()\n",
    "            likelihood.train()\n",
    "            # Initialize cuda kernel event timing tools\n",
    "\n",
    "            start, stop = torch.cuda.Event(enable_timing=True), torch.cuda.Event(\n",
    "                enable_timing=True\n",
    "            )\n",
    "\n",
    "\n",
    "            # Time the training process\n",
    "            start.record()\n",
    "            training(model, optimizer, loss, train_x, train_y, max_iters=50, verbose=False)\n",
    "            stop.record()\n",
    "            torch.cuda.synchronize()\n",
    "\n",
    "            # Save times for plotting\n",
    "\n",
    "            Training_times.append(start.elapsed_time(stop)*1e-3)  # convert to seconds\n",
    "\n",
    "        else:\n",
    "\n",
    "            likelihood = gpytorch.likelihoods.GaussianLikelihood()\n",
    "            model = ExactGPModel(train_x, train_y, likelihood)\n",
    "\n",
    "            loss = gpytorch.mlls.ExactMarginalLogLikelihood(likelihood, model)\n",
    "\n",
    "            optimizer = torch.optim.Adam(model.parameters(), lr=0.1)\n",
    "\n",
    "            model.train()\n",
    "            likelihood.train()\n",
    "\n",
    "            start = time.time()\n",
    "\n",
    "\n",
    "            training(\n",
    "                model, optimizer, loss, train_x, train_y, max_iters=50, verbose=False\n",
    "            )\n",
    "            stop = time.time()\n",
    "\n",
    "\n",
    "            Training_times.append(\n",
    "                (stop-start)\n",
    "            ) \n",
    "\n",
    "\n",
    "    return Training_times\n",
    "\n",
    "\n",
    "\n",
    "cpu_times = test_training_times(torch.device(\"cpu\"))\n",
    "gpu_times = test_training_times(torch.device(\"cuda\"))"
   ]
  },
  {
   "cell_type": "markdown",
   "metadata": {},
   "source": [
    "Visualize CPU vs GPU training times\n"
   ]
  },
  {
   "cell_type": "code",
   "execution_count": 11,
   "metadata": {},
   "outputs": [
    {
     "data": {
      "image/png": "[encoded data removed]",
      "text/plain": [
       "<Figure size 576x360 with 1 Axes>"
      ]
     },
     "metadata": {
      "needs_background": "light"
     },
     "output_type": "display_data"
    }
   ],
   "source": [
    "f, ax = plt.subplots(1, 1, figsize=(8, 5))\n",
    "ax.set_facecolor(\"lightgray\")\n",
    "ax.grid(c=\"white\")\n",
    "ax.plot(N_test.numpy(), np.array(cpu_times), label=\"CPU\")\n",
    "ax.plot(N_test.numpy(), gpu_times, label=\"GPU\")\n",
    "ax.legend(fontsize=15)\n",
    "ax.set_xlabel(\"# of observations\", fontsize=12)\n",
    "ax.set_ylabel(\"Training time [s]\", fontsize=12)\n",
    "\n",
    "plt.show()"
   ]
  }
 ],
 "metadata": {
  "kernelspec": {
   "display_name": "Python 3",
   "language": "python",
   "name": "python3"
  },
  "language_info": {
   "codemirror_mode": {
    "name": "ipython",
    "version": 3
   },
   "file_extension": ".py",
   "mimetype": "text/x-python",
   "name": "python",
   "nbconvert_exporter": "python",
   "pygments_lexer": "ipython3",
   "version": "3.9.13"
  }
 },
 "nbformat": 4,
 "nbformat_minor": 2
}
